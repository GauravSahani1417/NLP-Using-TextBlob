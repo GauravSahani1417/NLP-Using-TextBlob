{
  "nbformat": 4,
  "nbformat_minor": 0,
  "metadata": {
    "colab": {
      "name": "NLP Using TextBlob Youtube.ipynb",
      "provenance": [],
      "collapsed_sections": [],
      "authorship_tag": "ABX9TyNgGhdS7FMZn54A+H80QOEA",
      "include_colab_link": true
    },
    "kernelspec": {
      "name": "python3",
      "display_name": "Python 3"
    }
  },
  "cells": [
    {
      "cell_type": "markdown",
      "metadata": {
        "id": "view-in-github",
        "colab_type": "text"
      },
      "source": [
        "<a href=\"https://colab.research.google.com/github/GauravSahani1417/NLP-Using-TextBlob/blob/main/NLP_Using_TextBlob_Youtube.ipynb\" target=\"_parent\"><img src=\"https://colab.research.google.com/assets/colab-badge.svg\" alt=\"Open In Colab\"/></a>"
      ]
    },
    {
      "cell_type": "code",
      "metadata": {
        "colab": {
          "base_uri": "https://localhost:8080/"
        },
        "id": "zExLKCPHzxIq",
        "outputId": "89c1e6c8-8d9d-4289-e2b6-96d037321437"
      },
      "source": [
        "!pip install textblob"
      ],
      "execution_count": 1,
      "outputs": [
        {
          "output_type": "stream",
          "text": [
            "Requirement already satisfied: textblob in /usr/local/lib/python3.6/dist-packages (0.15.3)\n",
            "Requirement already satisfied: nltk>=3.1 in /usr/local/lib/python3.6/dist-packages (from textblob) (3.2.5)\n",
            "Requirement already satisfied: six in /usr/local/lib/python3.6/dist-packages (from nltk>=3.1->textblob) (1.15.0)\n"
          ],
          "name": "stdout"
        }
      ]
    },
    {
      "cell_type": "code",
      "metadata": {
        "id": "cojIHOAwz1FE"
      },
      "source": [
        "from textblob import TextBlob"
      ],
      "execution_count": 2,
      "outputs": []
    },
    {
      "cell_type": "code",
      "metadata": {
        "id": "-ccQnr_S07G1"
      },
      "source": [
        "import nltk"
      ],
      "execution_count": 3,
      "outputs": []
    },
    {
      "cell_type": "code",
      "metadata": {
        "colab": {
          "base_uri": "https://localhost:8080/"
        },
        "id": "zWqM6mub3xt8",
        "outputId": "25ef7bba-87e7-4d73-a130-132e26b857e4"
      },
      "source": [
        "nltk.download(\"wordnet\")\r\n",
        "nltk.download(\"brown\")\r\n",
        "nltk.download('punkt')"
      ],
      "execution_count": 4,
      "outputs": [
        {
          "output_type": "stream",
          "text": [
            "[nltk_data] Downloading package wordnet to /root/nltk_data...\n",
            "[nltk_data]   Unzipping corpora/wordnet.zip.\n",
            "[nltk_data] Downloading package brown to /root/nltk_data...\n",
            "[nltk_data]   Unzipping corpora/brown.zip.\n",
            "[nltk_data] Downloading package punkt to /root/nltk_data...\n",
            "[nltk_data]   Unzipping tokenizers/punkt.zip.\n"
          ],
          "name": "stdout"
        },
        {
          "output_type": "execute_result",
          "data": {
            "text/plain": [
              "True"
            ]
          },
          "metadata": {
            "tags": []
          },
          "execution_count": 4
        }
      ]
    },
    {
      "cell_type": "code",
      "metadata": {
        "id": "-6QDm28x31j-"
      },
      "source": [
        "text1 = '''\r\n",
        "Over the years, I have often reflected upon Robert Frost’s poem.\r\n",
        "Choosing not to listen to my highly educated dad’s advice and attitude\r\n",
        "about money was a painful decision, but it was a decision that shaped\r\n",
        "the rest of my life.\r\n",
        "Once I made up my mind about whom to listen to, my education\r\n",
        "about money began. My rich dad taught me over a period of 30 years\r\n",
        "until I was 39 years old. He stopped once he realized that I knew and fully\r\n",
        "understood what he had been trying to drum into my often-thick skull.'''"
      ],
      "execution_count": 5,
      "outputs": []
    },
    {
      "cell_type": "code",
      "metadata": {
        "id": "q5shaTfO4ACo"
      },
      "source": [
        "#Create a TextBlob object\r\n",
        "blob = TextBlob(text1)"
      ],
      "execution_count": 6,
      "outputs": []
    },
    {
      "cell_type": "code",
      "metadata": {
        "colab": {
          "base_uri": "https://localhost:8080/"
        },
        "id": "nDd4cD124Hos",
        "outputId": "5a07f8a7-9055-49ec-a7a9-9254ce4bd37c"
      },
      "source": [
        "#noun_phrases\r\n",
        "blob.noun_phrases"
      ],
      "execution_count": 7,
      "outputs": [
        {
          "output_type": "execute_result",
          "data": {
            "text/plain": [
              "WordList(['robert frost', '’ s poem', 'choosing', 'dad ’ s advice', 'painful decision', 'rich dad', 'often-thick skull'])"
            ]
          },
          "metadata": {
            "tags": []
          },
          "execution_count": 7
        }
      ]
    },
    {
      "cell_type": "markdown",
      "metadata": {
        "id": "I2S0zKay9MsH"
      },
      "source": [
        "The sentiment function of textblob returns two properties, polarity, and subjectivity.\r\n",
        "\r\n",
        "Polarity is float which lies in the range of [-1,1] where 1 means positive statement and -1 means a negative statement. Subjective sentences generally refer to personal opinion, emotion or judgment whereas objective refers to factual information. Subjectivity is also a float which lies in the range of [0,1]."
      ]
    },
    {
      "cell_type": "code",
      "metadata": {
        "colab": {
          "base_uri": "https://localhost:8080/"
        },
        "id": "y7gSBjOl4Lea",
        "outputId": "d2437d83-eb4a-4bf8-edc3-bfd51fa91c13"
      },
      "source": [
        "#Sentiment Analysis\r\n",
        "polarity = blob.sentiment[0]\r\n",
        "\r\n",
        "subjectivity = blob.sentiment[1]\r\n",
        "\r\n",
        "print(polarity, subjectivity)"
      ],
      "execution_count": 8,
      "outputs": [
        {
          "output_type": "stream",
          "text": [
            "-0.01624999999999998 0.5975\n"
          ],
          "name": "stdout"
        }
      ]
    },
    {
      "cell_type": "markdown",
      "metadata": {
        "id": "4xkmVh3B9Lu0"
      },
      "source": [
        "We can see that polarity is -0.016, which means that the statement is bit negative and 0.59 subjectivity refers that mostly it is a public opinion and not a factual information."
      ]
    },
    {
      "cell_type": "code",
      "metadata": {
        "colab": {
          "base_uri": "https://localhost:8080/"
        },
        "id": "5uHPFdZZ9iob",
        "outputId": "4536aa2d-64b2-4688-aece-a65948a37741"
      },
      "source": [
        "#or this can also work!\r\n",
        "polarity = blob.polarity\r\n",
        "subjectivity = blob.subjectivity\r\n",
        "\r\n",
        "print(polarity, subjectivity)"
      ],
      "execution_count": 9,
      "outputs": [
        {
          "output_type": "stream",
          "text": [
            "-0.01624999999999998 0.5975\n"
          ],
          "name": "stdout"
        }
      ]
    },
    {
      "cell_type": "code",
      "metadata": {
        "colab": {
          "base_uri": "https://localhost:8080/"
        },
        "id": "MhXeIaQs96gm",
        "outputId": "87519e1a-e5db-4293-e03f-9d0559fe4930"
      },
      "source": [
        "#Tokenization, it is a NLP technique to split text data into list of single words or sentences\r\n",
        "blob.words"
      ],
      "execution_count": 10,
      "outputs": [
        {
          "output_type": "execute_result",
          "data": {
            "text/plain": [
              "WordList(['Over', 'the', 'years', 'I', 'have', 'often', 'reflected', 'upon', 'Robert', 'Frost', '’', 's', 'poem', 'Choosing', 'not', 'to', 'listen', 'to', 'my', 'highly', 'educated', 'dad', '’', 's', 'advice', 'and', 'attitude', 'about', 'money', 'was', 'a', 'painful', 'decision', 'but', 'it', 'was', 'a', 'decision', 'that', 'shaped', 'the', 'rest', 'of', 'my', 'life', 'Once', 'I', 'made', 'up', 'my', 'mind', 'about', 'whom', 'to', 'listen', 'to', 'my', 'education', 'about', 'money', 'began', 'My', 'rich', 'dad', 'taught', 'me', 'over', 'a', 'period', 'of', '30', 'years', 'until', 'I', 'was', '39', 'years', 'old', 'He', 'stopped', 'once', 'he', 'realized', 'that', 'I', 'knew', 'and', 'fully', 'understood', 'what', 'he', 'had', 'been', 'trying', 'to', 'drum', 'into', 'my', 'often-thick', 'skull'])"
            ]
          },
          "metadata": {
            "tags": []
          },
          "execution_count": 10
        }
      ]
    },
    {
      "cell_type": "code",
      "metadata": {
        "colab": {
          "base_uri": "https://localhost:8080/"
        },
        "id": "S_zv8p_C-NuB",
        "outputId": "5df112f7-0958-4708-d31a-d25c0abee53b"
      },
      "source": [
        "blob.sentences"
      ],
      "execution_count": 11,
      "outputs": [
        {
          "output_type": "execute_result",
          "data": {
            "text/plain": [
              "[Sentence(\"\n",
              " Over the years, I have often reflected upon Robert Frost’s poem.\"),\n",
              " Sentence(\"Choosing not to listen to my highly educated dad’s advice and attitude\n",
              " about money was a painful decision, but it was a decision that shaped\n",
              " the rest of my life.\"),\n",
              " Sentence(\"Once I made up my mind about whom to listen to, my education\n",
              " about money began.\"),\n",
              " Sentence(\"My rich dad taught me over a period of 30 years\n",
              " until I was 39 years old.\"),\n",
              " Sentence(\"He stopped once he realized that I knew and fully\n",
              " understood what he had been trying to drum into my often-thick skull.\")]"
            ]
          },
          "metadata": {
            "tags": []
          },
          "execution_count": 11
        }
      ]
    },
    {
      "cell_type": "code",
      "metadata": {
        "colab": {
          "base_uri": "https://localhost:8080/"
        },
        "id": "Nm0_EJBt-XuF",
        "outputId": "8d4064f7-8941-43ae-c3ca-d6432c35ea9a"
      },
      "source": [
        "#Words Lemmatization, \r\n",
        "#lemmatization is a NLP technique to reduce inflectional or derivational forms of a word to be the base form so that they can be analyzed as one single word.\r\n",
        "from textblob import Word\r\n",
        "\r\n",
        "word = \"organizes\"\r\n",
        "word1 = \"went\" \r\n",
        "\r\n",
        "\r\n",
        "# Convert a Python string to a textblob Word()\r\n",
        "blob_word = Word(word)\r\n",
        "\r\n",
        "print(blob_word.lemmatize(\"v\"))\r\n",
        "print(Word(word1).lemmatize(\"v\"))"
      ],
      "execution_count": 12,
      "outputs": [
        {
          "output_type": "stream",
          "text": [
            "organize\n",
            "go\n"
          ],
          "name": "stdout"
        }
      ]
    },
    {
      "cell_type": "code",
      "metadata": {
        "id": "1yeEAdSf-3bF"
      },
      "source": [
        "#Spell Check\r\n",
        "blob = TextBlob(\"Walcome to my channol\")"
      ],
      "execution_count": 17,
      "outputs": []
    },
    {
      "cell_type": "code",
      "metadata": {
        "colab": {
          "base_uri": "https://localhost:8080/"
        },
        "id": "ZQfMrIni_ECl",
        "outputId": "4b295790-746b-484f-cea8-ee6575c9ce87"
      },
      "source": [
        "blob.correct()"
      ],
      "execution_count": 18,
      "outputs": [
        {
          "output_type": "execute_result",
          "data": {
            "text/plain": [
              "TextBlob(\"Welcome to my channel\")"
            ]
          },
          "metadata": {
            "tags": []
          },
          "execution_count": 18
        }
      ]
    },
    {
      "cell_type": "code",
      "metadata": {
        "colab": {
          "base_uri": "https://localhost:8080/"
        },
        "id": "019ELYdR_GK5",
        "outputId": "34d8083a-e599-4a62-8f96-af1bdf031668"
      },
      "source": [
        "#Translation\r\n",
        "blob = TextBlob(\"Beautiful is better than ugly. Explicit is better than implicit.\")\r\n",
        "\r\n",
        "# Translate to German from English\r\n",
        "blob.translate(to=\"de\")"
      ],
      "execution_count": null,
      "outputs": [
        {
          "output_type": "execute_result",
          "data": {
            "text/plain": [
              "TextBlob(\"Schön ist besser als hässlich. Explizit ist besser als implizit.\")"
            ]
          },
          "metadata": {
            "tags": []
          },
          "execution_count": 17
        }
      ]
    },
    {
      "cell_type": "code",
      "metadata": {
        "id": "MaV4LETk_RnA"
      },
      "source": [
        ""
      ],
      "execution_count": null,
      "outputs": []
    }
  ]
}