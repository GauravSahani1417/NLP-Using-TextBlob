{
  "nbformat": 4,
  "nbformat_minor": 0,
  "metadata": {
    "colab": {
      "name": "NLP Using TextBlob.ipynb",
      "provenance": [],
      "collapsed_sections": [],
      "authorship_tag": "ABX9TyN335TGOABtf2SY0gH1gTpr",
      "include_colab_link": true
    },
    "kernelspec": {
      "name": "python3",
      "display_name": "Python 3"
    }
  },
  "cells": [
    {
      "cell_type": "markdown",
      "metadata": {
        "id": "view-in-github",
        "colab_type": "text"
      },
      "source": [
        "<a href=\"https://colab.research.google.com/github/GauravSahani1417/NLP-Using-TextBlob/blob/main/NLP_Using_TextBlob.ipynb\" target=\"_parent\"><img src=\"https://colab.research.google.com/assets/colab-badge.svg\" alt=\"Open In Colab\"/></a>"
      ]
    },
    {
      "cell_type": "code",
      "metadata": {
        "colab": {
          "base_uri": "https://localhost:8080/"
        },
        "id": "zExLKCPHzxIq",
        "outputId": "cafd6950-ffb1-4d2b-cebd-a33eebeee83d"
      },
      "source": [
        "!pip install textblob"
      ],
      "execution_count": 1,
      "outputs": [
        {
          "output_type": "stream",
          "text": [
            "Requirement already satisfied: textblob in /usr/local/lib/python3.6/dist-packages (0.15.3)\n",
            "Requirement already satisfied: nltk>=3.1 in /usr/local/lib/python3.6/dist-packages (from textblob) (3.2.5)\n",
            "Requirement already satisfied: six in /usr/local/lib/python3.6/dist-packages (from nltk>=3.1->textblob) (1.15.0)\n"
          ],
          "name": "stdout"
        }
      ]
    },
    {
      "cell_type": "code",
      "metadata": {
        "id": "cojIHOAwz1FE"
      },
      "source": [
        "from textblob import TextBlob"
      ],
      "execution_count": 2,
      "outputs": []
    },
    {
      "cell_type": "code",
      "metadata": {
        "id": "ggdELWcf0nGl"
      },
      "source": [
        "g = TextBlob(\"Helllo everyone, I work as a data analyst\")"
      ],
      "execution_count": 3,
      "outputs": []
    },
    {
      "cell_type": "code",
      "metadata": {
        "colab": {
          "base_uri": "https://localhost:8080/"
        },
        "id": "AN-nk-aI05Su",
        "outputId": "21629348-e30b-499c-c27d-570060257601"
      },
      "source": [
        "g.correct()"
      ],
      "execution_count": 4,
      "outputs": [
        {
          "output_type": "execute_result",
          "data": {
            "text/plain": [
              "TextBlob(\"Hello everyone, I work as a data analyst\")"
            ]
          },
          "metadata": {
            "tags": []
          },
          "execution_count": 4
        }
      ]
    },
    {
      "cell_type": "code",
      "metadata": {
        "id": "-ccQnr_S07G1"
      },
      "source": [
        "import nltk"
      ],
      "execution_count": 5,
      "outputs": []
    },
    {
      "cell_type": "code",
      "metadata": {
        "colab": {
          "base_uri": "https://localhost:8080/"
        },
        "id": "zWqM6mub3xt8",
        "outputId": "082d35e0-4055-4a60-ebaf-a21f6ce3d3a7"
      },
      "source": [
        "nltk.download(\"wordnet\")\r\n",
        "nltk.download(\"brown\")\r\n",
        "nltk.download('punkt')"
      ],
      "execution_count": 6,
      "outputs": [
        {
          "output_type": "stream",
          "text": [
            "[nltk_data] Downloading package wordnet to /root/nltk_data...\n",
            "[nltk_data]   Unzipping corpora/wordnet.zip.\n",
            "[nltk_data] Downloading package brown to /root/nltk_data...\n",
            "[nltk_data]   Unzipping corpora/brown.zip.\n",
            "[nltk_data] Downloading package punkt to /root/nltk_data...\n",
            "[nltk_data]   Unzipping tokenizers/punkt.zip.\n"
          ],
          "name": "stdout"
        },
        {
          "output_type": "execute_result",
          "data": {
            "text/plain": [
              "True"
            ]
          },
          "metadata": {
            "tags": []
          },
          "execution_count": 6
        }
      ]
    },
    {
      "cell_type": "code",
      "metadata": {
        "id": "-6QDm28x31j-"
      },
      "source": [
        "text1 = '''\r\n",
        "Beautiful is better than ugly.\r\n",
        "Explicit is better than implicit.\r\n",
        "Simple is better than complex.\r\n",
        "Complex is better than complicated.\r\n",
        "Flat is better than nested.\r\n",
        "Sparse is better than dense.\r\n",
        "Readability counts.\r\n",
        "Errors should never pass silently.'''"
      ],
      "execution_count": 7,
      "outputs": []
    },
    {
      "cell_type": "code",
      "metadata": {
        "id": "q5shaTfO4ACo"
      },
      "source": [
        "#Create a TextBlob object\r\n",
        "blob = TextBlob(text1)"
      ],
      "execution_count": 8,
      "outputs": []
    },
    {
      "cell_type": "code",
      "metadata": {
        "colab": {
          "base_uri": "https://localhost:8080/"
        },
        "id": "nDd4cD124Hos",
        "outputId": "9391073c-e516-4e1b-c7c9-0539027fd862"
      },
      "source": [
        "#noun_phrases\r\n",
        "blob.noun_phrases"
      ],
      "execution_count": 9,
      "outputs": [
        {
          "output_type": "execute_result",
          "data": {
            "text/plain": [
              "WordList(['beautiful', 'explicit', 'simple', 'complex', 'flat', 'sparse', 'readability', 'errors'])"
            ]
          },
          "metadata": {
            "tags": []
          },
          "execution_count": 9
        }
      ]
    },
    {
      "cell_type": "markdown",
      "metadata": {
        "id": "I2S0zKay9MsH"
      },
      "source": [
        "The sentiment function of textblob returns two properties, polarity, and subjectivity.\r\n",
        "\r\n",
        "Polarity is float which lies in the range of [-1,1] where 1 means positive statement and -1 means a negative statement. Subjective sentences generally refer to personal opinion, emotion or judgment whereas objective refers to factual information. Subjectivity is also a float which lies in the range of [0,1]."
      ]
    },
    {
      "cell_type": "code",
      "metadata": {
        "colab": {
          "base_uri": "https://localhost:8080/"
        },
        "id": "y7gSBjOl4Lea",
        "outputId": "341ab868-82dd-4922-bfe7-4bab49fccb20"
      },
      "source": [
        "#Sentiment Analysis\r\n",
        "polarity = blob.sentiment[0]\r\n",
        "\r\n",
        "subjectivity = blob.sentiment[1]\r\n",
        "\r\n",
        "print(polarity, subjectivity)"
      ],
      "execution_count": 10,
      "outputs": [
        {
          "output_type": "stream",
          "text": [
            "0.14464285714285716 0.5272959183673469\n"
          ],
          "name": "stdout"
        }
      ]
    },
    {
      "cell_type": "markdown",
      "metadata": {
        "id": "4xkmVh3B9Lu0"
      },
      "source": [
        "We can see that polarity is 0.14, which means that the statement is bit positive and 0.52 subjectivity refers that mostly it is a public opinion and not a factual information."
      ]
    },
    {
      "cell_type": "code",
      "metadata": {
        "colab": {
          "base_uri": "https://localhost:8080/"
        },
        "id": "5uHPFdZZ9iob",
        "outputId": "c870ff86-d965-4cfd-81d3-9395a6c5f492"
      },
      "source": [
        "#or this can also work!\r\n",
        "polarity = blob.polarity\r\n",
        "subjectivity = blob.subjectivity\r\n",
        "\r\n",
        "print(polarity, subjectivity)"
      ],
      "execution_count": 11,
      "outputs": [
        {
          "output_type": "stream",
          "text": [
            "0.14464285714285716 0.5272959183673469\n"
          ],
          "name": "stdout"
        }
      ]
    },
    {
      "cell_type": "code",
      "metadata": {
        "colab": {
          "base_uri": "https://localhost:8080/"
        },
        "id": "MhXeIaQs96gm",
        "outputId": "5fd38462-f8a7-4d52-918a-94af9c91e87b"
      },
      "source": [
        "#Tokenization, it is a NLP technique to split text data into list of single words or sentences\r\n",
        "blob.words"
      ],
      "execution_count": 12,
      "outputs": [
        {
          "output_type": "execute_result",
          "data": {
            "text/plain": [
              "WordList(['Beautiful', 'is', 'better', 'than', 'ugly', 'Explicit', 'is', 'better', 'than', 'implicit', 'Simple', 'is', 'better', 'than', 'complex', 'Complex', 'is', 'better', 'than', 'complicated', 'Flat', 'is', 'better', 'than', 'nested', 'Sparse', 'is', 'better', 'than', 'dense', 'Readability', 'counts', 'Errors', 'should', 'never', 'pass', 'silently'])"
            ]
          },
          "metadata": {
            "tags": []
          },
          "execution_count": 12
        }
      ]
    },
    {
      "cell_type": "code",
      "metadata": {
        "colab": {
          "base_uri": "https://localhost:8080/"
        },
        "id": "S_zv8p_C-NuB",
        "outputId": "50b8f7da-d9f5-42e3-8344-b1092c017217"
      },
      "source": [
        "blob.sentences"
      ],
      "execution_count": 13,
      "outputs": [
        {
          "output_type": "execute_result",
          "data": {
            "text/plain": [
              "[Sentence(\"\n",
              " Beautiful is better than ugly.\"),\n",
              " Sentence(\"Explicit is better than implicit.\"),\n",
              " Sentence(\"Simple is better than complex.\"),\n",
              " Sentence(\"Complex is better than complicated.\"),\n",
              " Sentence(\"Flat is better than nested.\"),\n",
              " Sentence(\"Sparse is better than dense.\"),\n",
              " Sentence(\"Readability counts.\"),\n",
              " Sentence(\"Errors should never pass silently.\")]"
            ]
          },
          "metadata": {
            "tags": []
          },
          "execution_count": 13
        }
      ]
    },
    {
      "cell_type": "code",
      "metadata": {
        "colab": {
          "base_uri": "https://localhost:8080/"
        },
        "id": "Nm0_EJBt-XuF",
        "outputId": "f2b2a3c2-e3af-4dd2-ba49-6f45b66353ab"
      },
      "source": [
        "#Words Lemmatization, \r\n",
        "#lemmatization is a NLP technique to reduce inflectional or derivational forms of a word to be the base form so that they can be analyzed as one single word.\r\n",
        "from textblob import Word\r\n",
        "\r\n",
        "word = \"organizes\"\r\n",
        "word1 = \"went\" \r\n",
        "\r\n",
        "\r\n",
        "# Convert a Python string to a textblob Word()\r\n",
        "blob_word = Word(word)\r\n",
        "\r\n",
        "print(blob_word.lemmatize(\"v\"))\r\n",
        "print(Word(word1).lemmatize(\"v\"))"
      ],
      "execution_count": 14,
      "outputs": [
        {
          "output_type": "stream",
          "text": [
            "organize\n",
            "go\n"
          ],
          "name": "stdout"
        }
      ]
    },
    {
      "cell_type": "code",
      "metadata": {
        "id": "1yeEAdSf-3bF"
      },
      "source": [
        "#Spell Check\r\n",
        "blob = TextBlob(\"My spellin is aways corect\")"
      ],
      "execution_count": 15,
      "outputs": []
    },
    {
      "cell_type": "code",
      "metadata": {
        "colab": {
          "base_uri": "https://localhost:8080/"
        },
        "id": "ZQfMrIni_ECl",
        "outputId": "eb54a3fc-6e1d-4b8b-810d-078947f824de"
      },
      "source": [
        "blob.correct()"
      ],
      "execution_count": 16,
      "outputs": [
        {
          "output_type": "execute_result",
          "data": {
            "text/plain": [
              "TextBlob(\"By spelling is away correct\")"
            ]
          },
          "metadata": {
            "tags": []
          },
          "execution_count": 16
        }
      ]
    },
    {
      "cell_type": "code",
      "metadata": {
        "colab": {
          "base_uri": "https://localhost:8080/"
        },
        "id": "019ELYdR_GK5",
        "outputId": "34d8083a-e599-4a62-8f96-af1bdf031668"
      },
      "source": [
        "#Translation\r\n",
        "blob = TextBlob(\"Beautiful is better than ugly. Explicit is better than implicit.\")\r\n",
        "\r\n",
        "# Translate to German from English\r\n",
        "blob.translate(to=\"de\")"
      ],
      "execution_count": 17,
      "outputs": [
        {
          "output_type": "execute_result",
          "data": {
            "text/plain": [
              "TextBlob(\"Schön ist besser als hässlich. Explizit ist besser als implizit.\")"
            ]
          },
          "metadata": {
            "tags": []
          },
          "execution_count": 17
        }
      ]
    },
    {
      "cell_type": "code",
      "metadata": {
        "id": "MaV4LETk_RnA"
      },
      "source": [
        ""
      ],
      "execution_count": 17,
      "outputs": []
    }
  ]
}